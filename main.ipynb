{
 "cells": [
  {
   "cell_type": "code",
   "execution_count": 25,
   "metadata": {},
   "outputs": [],
   "source": [
    "import pandas as pd\n",
    "import nltk\n",
    "# nltk.download()\n",
    "from nltk.corpus import stopwords\n",
    "from nltk.tokenize import word_tokenize"
   ]
  },
  {
   "cell_type": "code",
   "execution_count": 29,
   "metadata": {},
   "outputs": [
    {
     "data": {
      "text/plain": [
       "(723, 11)"
      ]
     },
     "execution_count": 29,
     "metadata": {},
     "output_type": "execute_result"
    }
   ],
   "source": [
    "df = pd.read_csv(\"training_data.csv\")\n",
    "data = df.to_numpy()\n",
    "data.shape"
   ]
  },
  {
   "cell_type": "code",
   "execution_count": 30,
   "metadata": {},
   "outputs": [
    {
     "data": {
      "text/plain": [
       "array([[1,\n",
       "        list(['long', 'time', 'ago', 'third', 'grade', 'friend', \"'s\", 'mom', 'bad', 'mood', '.', 'never', 'laughed', 'never', 'smiled', '.', 'every', 'time', 'saw', 'would', 'smile', 'would', 'frown', 'keep', 'walking', '.', 'first', \"n't\", 'know', 'grouch', 'thought', \"n't\", 'like', 'something.when', 'told', 'mom', 'grouch', 'started', 'laugh', 'laugh', '.', 'asked', 'funny', 'told', 'thought', 'mom', \"n't\", 'like', 'something', 'every', 'time', 'see', 'mom', 'would', 'smile', 'frown', 'walk', 'away', '.', 'made', 'friend', 'laugh', 'cracking', 'hard', 'got', 'trouble', 'class', '.', 'next', 'day', 'eating', 'lunch', 'school', 'says', '&', 'lt', ';', 'hey', 'pretty', 'good', 'making', 'people', 'laugh', '&', 'gt', ';', '.', 'said', '&', 'lt', ';', 'jokesare', 'horrible', '&', 'gt', ';', '.', 'said', '&', 'lt', ';', 'caps1', 'lets', 'put', 'test', 'go', 'one', 'new', 'school', '&', 'gt', ';', '.', 'said', 'went', 'around', 'whole', 'school', 'looking', 'new', 'student', 'unfortunately', 'could', \"n't\", 'find', 'one', 'heard', 'bell', 'ring', 'ran', 'class', '.', 'sat', 'back', 'classroom', 'anempty', 'seat', 'us', '.', 'excited', 'teacher', 'going', 'show', 'us', 'movie', '.', 'got', 'front', 'room', 'andclass', 'today', 'announcement', 'new', 'student', 'class', 'say', 'hello', 'walked', 'door', '.', 'told', 'shecould', 'sit', 'back', 'i.', 'sat', 'turned', 'us', 'said', 'hello', '.', 'gave', 'look', 'said', 'tell', 'joke', 'thumbs', '.', 'turned', 'said', 'hi', \"'m\", 'want', 'hear', 'joke', '.', 'said', 'yeah', 'sure', '.', 'started', '&', 'lt', ';', 'caps5', 'knockshe', 'said', '&', 'lt', ';', \"'s\", 'therei', 'said', '&', 'lt', ';', 'booshe', 'said', '&', 'lt', ';', 'boo', '?', 'said', '&', 'lt', ';', 'oh', \"n't\", 'cry', 'right', '&', 'gt', ';', '.', 'first', \"n't\", 'laugh', \"n't\", 'get', 'duringthe', 'middle', 'movie', 'said', '&', 'lt', ';', 'ohhhh', 'get', 'itand', 'started', 'laugh', '.', 'turned', 'said', '&', 'lt', ';', 'told', '&', 'gt', ';', '.', 'got', 'crazy', 'idea', 'spent', 'night', 'house', 'could', 'make', 'mom', 'laugh', 'least', 'make', 'smile', '.', 'said', '&', 'lt', ';', 'caps1', 'sounds', 'like', 'plan', '&', 'gt', ';', '.', 'asked', 'mt', 'mom', 'could', 'spend', 'night', 'house', 'said', '&', 'lt', ';', 'yeah', 'make', 'sure', 'mom', '&', 'gt', ';', '.', 'asked', 'mom', 'said', 'got', 'house', 'first', 'thing', 'play', 'video', 'games', '.', 'dinner', 'time', 'sat', 'table', 'eat', 'one', 'side', 'parents', '.', 'started', 'eating', 'told', 'tell', 'joke', 'parents', 'said', 'said', '&', 'lt', ';', 'caps5', 'replied', '&', 'lt', ';', \"'s\", 'therei', 'said', '&', 'lt', ';', 'boothey', 'said', '&', 'lt', ';', 'boo', '?', 'said', '&', 'lt', ';', 'oh', \"n't\", 'cry', 'right', '&', 'gt', ';', '.', 'parents', 'started', 'laugh', 'laugh', 'keptlaughing', 'like', 'five', 'minutes', '.', 'turned', 'yelled', 'worked', 'mom', 'asked', 'worked', '.', 'explained', 'everything', '.', 'mom', 'told', 'usthat', 'mom', 'recently', 'died', \"'s\", 'bad', 'mood', '.', 'dinner', 'went', 'bed', 'fell', 'asleep', '.', 'next', 'morning', 'mom', 'came', 'pick', 'asked', 'sleep', 'went', '.', 'said', 'fun', 'made', 'people', 'laugh', '.', 'said', 'laughter', \"n't\", 'going', 'help', 'clean', 'roomall', 'could', 'say', 'gosh', 'darn', '.', 'fin']),\n",
       "        4, ..., nan, nan, nan],\n",
       "       [2,\n",
       "        list(['softball', 'one', 'single', 'greatest', 'sports', 'alive', ';', 'playing', 'softball', 'college', 'always', 'goal', 'mine', '.', 'love', 'dirt', 'sticks', 'face', ',', 'sweat', 'dripping', 'forehead', ',', 'gallons', 'gallons', 'water', 'poor', 'keep', 'cool', 'blistering', 'although', 'love', 'softball', 'feel', 'memories', 'acquire', 'times', 'teammates', ',', 'things', 'remember', 'softball', 'career', '.', 'always', 'great', 'memories', 'softball', 'many', 'laughs', ',', 'tears', ',', 'frustrations', 'opportunity', 'play', 'top', 'notch', 'team', 'looked', 'forward', 'many', 'memories', 'would', '.', 'hood', 'team', 'name', ',', 'played', 'almost', 'four', 'years', 'local', 'team', '.', 'many', 'girls', 'like', 'sisters', 'treated', 'amazingly', 'years', 'playing', '.', 'felt', 'like', 'set', 'team', ',', 'going', 'play', 'girls', 'though', 'high', 'school', 'would', 'become', 'even', 'closer', '.', 'fifth', 'year', 'approached', 'looking', 'forward', ',', 'dad', 'came', 'idea', 'maybe', 'play', 'team', 'locally', ',', 'idea', 'also', 'enticing', '.', 'faced', 'big', 'dilemma', 'either', 'stay', 'team', 'knew', 'well', 'continue', 'play', 'high', 'school', 'ended', ';', 'play', 'team', 'knew', 'nothing', ',', 'play', 'girls', 'might', 'like', ',', 'girls', 'much', 'better', ',', 'looked', 'upon', '.', 'looked', 'pros', 'cons', 'teams', 'decided', ';', 'would', 'stay', 'team', 'knew', 'well', 'would', 'stay', 'comfortable', '.', 'point', 'softball', 'around', 'corner', 'began', 'reanalyze', 'everything', '.', 'really', 'want', 'stay', 'comfortable', '?', 'maybe', 'challenge', 'become', 'better', 'player', ';', 'maybe', 'could', 'work', 'hard', 'enough', ',', 'college', 'scouts', 'take', 'look', 'hopefully', 'play', 'later', '.', 'decided', 'would', 'take', 'chance', 'try', 'team', '.', 'dad', 'drove', 'field', 'would', 'try', 'team', ',', 'stomach', 'knots', '.', 'wanted', 'team', 'like', ',', 'playing', 'possible', 'ways', 'head', 'could', 'greet', \"n't\", 'sound', 'snobby', 'grump', '.', 'time', 'moved', 'quickly', 'wished', 'would', 'slow', ';', 'heart', 'felt', 'like', 'beating', 'million', 'times', 'per', 'second', '.', 'nervous', 'mouth', 'began', 'feel', 'sticky', 'odd', 'taste', ',', 'soon', 'mouth', 'became', 'bone', 'dry', 'taste', ',', 'flavor', ',', 'sticky', 'mess', '.', 'car', 'stationary', 'dad', 'looked', 'said', '``', 'ready', 'come', \"''\", '.', 'nervous', 'began', 'take', 'body', 'arms', 'shaking', 'uncontrollably', 'second', 'guessing', 'every', 'move', 'made', ',', 'even', 'troubles', 'removing', 'seat', 'belt', '.', 'approached', 'field', 'felt', 'like', 'time', 'slow', 'motion', ',', 'walking', 'saw', 'girls', 'turn', 'heads', 'see', 'new', 'fresh', 'meat', 'arrived', '.', 'first', 'thought', 'run', ';', \"n't\", 'want', 'go', ',', 'done', 'wanted', 'home', 'ready', 'start', 'year', 'could', \"n't\", 'take', '.', 'walked', 'onto', 'field', 'grew', 'smile', '.', 'everyone', 'told', 'names', ',', 'favorite', 'color', ',', 'small', 'fun', 'fact', '.', 'found', 'laughing', 'whole', 'try', ',', 'awkward', 'moments', 'enjoyed', 'time', '.', 'could', \"n't\", 'wait', 'go', 'back', ',', 'made', 'new', 'friends', ',', 'friends', 'knew', 'would', 'grow', 'close', '.', 'year', 'team', 'amazing', 'friendships', 'girls', 'never', 'would', 'discovered', \"n't\", 'gone', '.', 'girls', 'like', 'family', ',', 'coaches', 'even', '.', 'laughter', 'played', 'big', 'role', 'decision', 'made', 'play', 'team', ',', 'gone', 'tried', ',', 'fun', 'laughed', ',', 'would', 'decided', 'play', 'great', 'memories', 'also', 'softball', 'going', 'discovering', 'new', 'friendships', ';', 'therefore', ',', 'enjoying', 'sport', 'well', 'people', '.']),\n",
       "        5, ..., nan, nan, nan],\n",
       "       [3,\n",
       "        list(['people', 'like', 'making', 'people', 'laugh', ',', 'love', '.', 'anything', 'get', 'good', 'laugh', '.', 'make', 'fun', 'self', ',', 'insanely', 'stupid', 'things', ',', 'sometimes', 'hurt', '(', 'serious', 'way', ')', '.', 'little', \"n't\", 'really', 'understand', 'laughter', '.', 'odd', 'reason', 'could', 'never', 'tell', 'difference', 'people', 'laughing', 'something', 'laughing', '.', 'kind', '``', 'special', \"''\", 'areas', 'kid', '(', 'still', 'today', ')', '.', 'still', 'tender', 'age', 'five', 'loved', 'making', 'people', 'laugh', ',', 'special', 'would', 'even', 'crazier', 'things', 'laugh', '.', 'mind', 'kind', 'spaz', ',', 'really', 'big', 'spaz', '.', 'hyperactive', 'five', 'year', 'old', 'ever', 'meet', '.', 'example', 'one', 'time', 'hit', 'head', 'hammer', ',', 'another', 'time', 'dancing', 'around', 'class', 'pencil', 'hand', ',', 'stabbed', 'head', ',', 'needed', 'stitches', '.', 'one', 'craziest', 'times', 'though', 'couple', 'days', 'take', 'pictures', 'wanted', 'go', 'play', 'outside', ',', 'mom', 'knowing', '``', 'special', \"''\", '(', 'got', ')', 'would', \"n't\", 'allow', '.', 'expert', 'persuasive', 'kid', 'back', 'convinced', 'let', 'go', 'outside', '.', 'could', 'even', 'reach', 'street', 'fell', 'head', 'first', 'corner', 'sidewalk', 'leaving', 'huge', 'mark', 'completely', 'ruining', 'pictures', '.', 'although', 'might', 'make', 'people', 'laugh', ',', 'story', 'laughter', 'spaz', '.', 'know', 'love', 'making', 'people', 'laugh', ',', \"'m\", '``', 'special', \"''\", ',', \"'m\", 'complete', 'spaz', 'get', 'story', '.', 'well', 'kindergarten', 'loved', 'school', 'got', 'hang', 'friends', 'play', 'blocks', ',', 'might', 'sound', 'stupid', 'kindergarten', '.', 'thing', \"n't\", 'like', 'kindergarten', 'bully', \"'s\", '.', 'surprisingly', 'never', 'bully', 'except', 'kindergarten', ',', 'bad', 'bully', '.', 'would', 'give', 'wedgies', 'story', 'time', 'whole', 'deal', '(', 'best', 'time', 'teacher', 'could', 'could', \"n't\", 'see', ')', '.', 'still', 'know', 'bully', ',', \"'s\", 'bully', 'anymore', ',', \"'s\", 'goody', 'two', 'shoes', 'think', 'odd', '.', 'anyways', ',', 'kindergarten', 'good', 'year', 'except', 'one', 'day', '(', 'every', 'day', 'got', 'wedgies', ')', '.', 'day', 'whole', 'story', ',', \"'s\", 'told', 'love', 'making', 'people', 'laugh', ',', 'told', \"'m\", '``', 'special', \"''\", ',', 'spaz', ',', 'everything', 'story', 'circles', 'around', 'one', 'day', ',', '*dramatic', 'pause*', 'kindergarten', '.', 'started', 'like', 'day', 'kindergarten', '.', 'woke', ',', 'daily', 'routine', ',', 'hopped', 'car', ',', 'headed', 'school', '.', 'got', 'school', 'grabbed', 'daily', 'binder', 'patted', 'education', 'sign', 'like', 'mall', 'cop', 'would', 'pat', 'observe', 'report', 'sign', '.', 'work', 'colored', '(', 'basically', 'work', ')', '.', 'came', 'around', 'break', 'ran', 'around', 'play', 'ground', 'got', 'little', 'snack', '.', 'finished', 'getting', 'last', 'drops', 'juice', 'boxes', 'headed', 'story', 'time', '.', 'little', 'circle', '(', 'like', 'deformed', 'oval', ')', 'listening', 'story', ',', 'right', 'would', 'get', 'story', 'lose', 'guard', 'would', 'receive', 'excruciatingly', 'painful', '(', 'five', 'year', 'old', ')', 'wedgie', '.', 'story', 'almost', 'finished', 'five', 'year', 'old', 'attention', 'spans', 'wearing', 'thin', 'getting', 'excited', '.', 'story', 'finally', 'finished', 'standing', ',', 'memory', 'starts', 'fade', '.', 'cracked', 'really', 'funny', 'joke', 'whole', 'kindergarten', 'class', 'erupted', 'laughter', ',', '``', 'special', \"''\", 'spaz', 'ca', \"n't\", 'tell', 'people', 'laughing', 'burst', 'tears', '.', 'remember', 'balling', 'eyes', 'drinking', 'fountain', 'trying', 'hide', 'tears', '.', 'one', 'teachers', 'tried', 'help', 'telling', 'laughing', 'joke', '.', 'took', 'couple', 'minutes', 'stop', 'crying', 'little', 'longer', 'realize', 'laughing', '.', 'day', 'still', 'get', 'reminded', 'classmates', 'day', ',', 'course', 'laugh', 'kindergarten', ',', \"'m\", 'ninth', 'grade', 'people', 'remember', 'kind', 'crazy', '.', 'negative', 'experience', ',', 'turned', 'blessing', 'disguise', '.', 'made', 'grow', 'better', 'person', ',', 'tell', 'difference', 'laughter', 'also', 'okay', 'people', 'laugh', '(', 'dumb', 'things', 'make', 'people', 'laugh', 'actually', 'forte', ')', '.', 'remember', ',', '``', 'special', \"''\", 'could', 'sometimes', 'best', 'thing', ',', 'makes', ',', 'makes', 'great', ',', 'makes', 'grow', ',', 'makes', 'people', 'laugh', '.']),\n",
       "        3, ..., nan, nan, nan],\n",
       "       ...,\n",
       "       [721,\n",
       "        list(['laugh', ',', 'habit', ',', 'cause', '?', 'causes', 'laughing', '?', 'even', 'thing', '``', 'cause', \"''\", 'laughter', '?', \"'m\", 'sure', 'get', 'scientist', \"'s\", 'opinion', ',', 'would', 'given', 'in-depth', ',', 'technical', 'explanation', 'cause', 'laughter', ';', 'mean', 'laughing', 'simply', 'message', 'sent', 'brain', 'required', 'muscles', '?', 'certainly', '!', 'true', 'cause', 'said', 'done', 'cause', 'brain', 'send', 'message', 'required', 'muscles', 'physically', 'make', 'person', 'laugh', '.', 'makes', 'people', 'laugh', '?', 'funny', 'joke', ',', 'senseless', 'action', ',', 'misunderstanding', '?', 'anything', '!', 'without', 'doubt', ',', 'one', 'thing', 'makes', 'people', 'laugh', 'delightful', 'time', 'friend', 'two', '.', 'older', 'sister', 'unknowingly', 'went', 'adventure', '.', 'headed', 'visit', 'best', 'friends', ',', 'happened', 'almost', 'completely', 'identical', 'sister', 'personality', ';', 'like', 'like', '.', ',', 'whenever', 'four', 'us', 'got', 'together', ',', 'telling', 'kind', 'humorous', 'insane', 'memories', 'would', 'go', 'home', ';', 'knew', 'hanging', 'together', 'failed', 'brighten', 'days', 'put', 'smile', 'faces', '.', 'particular', 'day', ',', 'desperate', 'need', \"'s\", 'full', 'attention', 'up-lifting', 'spirits', '.', 'going', 'rough', 'patch', 'friends', 'schools', '(', 'oddly', 'enough', ',', 'friendship', 'issues', 'someone', 'named', \"n't\", 'even', 'go', 'school', ')', ',', 'discussion', 'sets', 'parents', ',', 'agreed', 'pick', 'pick', ',', 'well', 'meet', 'somewhere', 'take', 'minds', 'antagonizing', 'situations', 'suffering', '.', 'decided', 'meet', 'house', '.', 'pulled', 'drive', 'way', ',', 'could', 'feel', 'body', 'filled', 'excitement', ',', 'emotion', 'trapped', 'inside', 'kind', 'storage', 'container', 'inside', 'small', 'hold', 'contents', 'held', 'inside', '.', 'car', 'engine', 'completely', 'turned', ',', 'seat', 'belt', 'half-way', 'car', 'door', '.', 'slammed', 'shut', 'body', 'slithered', 'way', 'free', 'ran', 'door', '.', 'surprise', ',', 'unlocked', '!', 'pushed', 'open', 'obnoxiously', 'yelling', ',', '``', \"'m\", 'heeeeeeeereeeeeeee', '!', \"''\", 'cry', 'laughter', 'filled', 'room', '.', 'hugged', 'one', 'tight', 'squeeze', ',', 'almost', 'next', 'move', 'planned', ',', 'immediately', 'began', 'chattering', 'incidents', 'occured', 'day', 'took', 'seat', 'couch', '.', 'could', 'heard', ',', '``', 'caps2', 'tell', 'happened', 'today', '!', \"''\", '``', 'ca', \"n't\", 'believe', 'said', '!', \"''\", '``', '...', 'said', '...', 'like', '...', 'says', '...', \"''\", 'caps5', 'taken', 'life', 'drama-ridden', 'teen', 'straight', 'movies', '.', 'things', 'going', 'normally', 'would', ';', 'dwelling', 'close', 'dining', 'room', 'locatated', 'far', 'end', 'couch', 'sat', ',', 'still', 'completely', 'involved', 'similar', 'freshman-year-of-high', 'school', 'worlds', '.', 'completely', 'immersed', 'conversations', 'old', 'memories', \"'d\", 'together', '.', 'sudden', 'shouts', ',', '``', 'caps2', '!', 'baked', 'brownies', '!', \"''\", 'guard', 'intejection', ',', 'fell', 'laughter', ',', 'although', 'time', ',', 'making', 'way', 'toward', 'kitchen', 'search', 'said', 'brownies', '.', 'arrived', ',', 'sat', 'pan', 'brownies', 'middle', 'counter', '.', 'uncovered', 'gave', 'us', 'napkin', 'brownie', 'sat', 'top', '.', 'stood', 'together', ',', 'leaning', 'tile', 'counters', ',', 'enjoying', 'brownies', 'company', 'one', 'another', '.', 'suddenly', ',', 'dull', 'moment', ';', 'one', 'saying', 'anything', '.', 'fill', 'silence', 'timer', 'ran', ',', 'blurted', ',', '``', 'person4', ',', 'wear', 'wig', '?', \"''\", 'lives', 'us', 'laughed', 'hard', 'moment', '.', 'fell', 'ground', ',', 'leaning', 'upon', 'support', 'keep', 'falling', ',', 'completely', 'doubled', ',', 'trying', 'desperately', 'keep', 'sip', 'milk', 'taken', 'inside', 'mouth', '.', 'minutes', 'creeped', ',', 'still', 'laughing', 'off-key', 'remark', '.', 'day', ',', 'remenise', 'upon', 'afternoon', 'laughter', 'shared', 'upon', 'us', ',', 'best', 'friends', '.']),\n",
       "        4, ..., nan, nan, nan],\n",
       "       [722,\n",
       "        list(['trippin', \"'\", 'fences', 'years', 'young', ',', 'short', 'years', ',', 'ever', 'remember', ',', 'laughing', 'hysterically', '.', 'whether', 'something', 'stupid', ',', 'best', 'friend', 'something', 'stupid', ',', 'time', 'got', 'together', 'something', 'outrageous', '.', 'someone', 'said', '``', 'laughter', 'shortest', 'distance', 'two', 'people', \"''\", '.', 'best', 'friend', ',', \"'s\", 'exactly', 'case', '.', 'always', 'get', 'good', 'ab', 'workout', 'whenever', \"'m\", ',', \"'m\", 'always', 'bursting', 'laughter', '.', 'grade', 'year', 'hanging', 'best', 'friend', 'lunch', 'break', 'outside', '.', 'showing', 'new', 'jeans', \"'d\", 'gotten', 'day', ',', 'also', 'telling', 'note', 'passed', ',', 'boy', 'apparently', 'crush', 'sometime', ',', 'boy', 'also', 'asked', 'note', '.', 'asked', 'could', 'see', ',', 'handed', ',', 'sudden', ',', 'chucked', 'note', 'fence', '.', 'clearly', ',', 'guy', \"n't\", 'approval', '.', 'could', \"n't\", 'leave', 'guy', 'hanging', 'without', 'answer', ',', 'especially', 'time', ',', 'liked', 'back', '.', 'begged', 'give', 'note', 'back', ',', 'refused', '.', 'supposed', ',', 'let', 'unanswered', 'note', 'lay', 'side', 'fence', '?', '.', 'solution', 'hop', 'fence', 'grab', '.', ',', 'new', 'jeans', 'might', 'add', ',', 'practically', 'straddled', 'fence', ',', 'ripped', 'big', 'hole', 'inner', 'side', 'thigh', ',', 'brand', 'new', 'jeans', '.', 'mad', '.', 'grabbed', 'note', ',', 'climbed', 'back', 'fence', 'new', 'improved', 'hobo', 'jeans', '.', 'way', 'back', ',', 'lost', 'balance', ',', 'fell', 'fence', '.', 'ended', 'losing', 'note', 'planting', 'head', 'first', 'pile', 'mud', 'pine', 'cones', '.', 'idiot', ',', \"'d\", 'climbed', 'stupid', 'fence', ',', 'ripped', 'jeans', ',', 'biffed', 'lost', 'balance', ',', 'lost', '.', 'frustrated', ',', 'started', 'laughing', '.', \"'m\", 'sure', 'embarrassed', ',', 'randomly', 'started', 'cracking', '.', 'started', 'laughing', ',', 'laughs', 'laugh', ',', 'laughter', 'contagious', '.', 'pretty', 'soon', ',', 'hysterically', 'laughing', 'like', 'couple', 'dorks', '.', '``', 'laughter', 'really', 'shortest', 'distance', 'two', 'people', \"''\", 'day', '.', 'even', 'though', 'probably', 'mad', '...', '.', 'laugh', '?', \"'s\", 'life', ',', 'living', '.', 'silly', 'funny', 'memory', ',', \"'ll\", 'stay', 'forever', '.', 'especially', 'moved', 'away', '.', 'seem', 'stupid', ',', 'funny', 'us', '.', 'guess', 'really', 'one', '``', 'caps1', \"''\", 'kind', 'moments', '.', 'reminds', 'good', 'old', 'days', \"'s\", 'good', 'memories', 'filled', 'laughter', '.', \"n't\", ',', 'life', 'almost', 'feel', 'dull', 'without', '.', 'even', 'laugh', 'smallest', 'things', 'life', '.', \"'s\", 'anyways', ',', '``', 'laughter', 'shortest', 'distance', 'two', 'people', \"''\", '.']),\n",
       "        4, ..., nan, nan, nan],\n",
       "       [723,\n",
       "        list(['many', 'people', 'believe', 'laughter', 'improve', 'life', '.', 'laughing', 'lets', 'endorphins', 'give', 'body', 'energy', 'daily', 'activities', '.', 'relationships', 'usually', 'better', 'people', 'happy', '.', 'happiness', 'like', 'shaking', 'soda', 'bottle', '.', 'happy', 'emotions', 'build', 'body', 'shaken', ',', 'release', 'explosion', 'positive', 'emotions', 'laughing', '.', 'born', ',', 'mother', 'said', 'chubby', 'baby', 'world', '.', 'said', ',', 'laughed', ',', 'constant', 'thought', 'eventually', 'become', 'young', 'adult', '.', 'giggled', 'backseat', 'car', 'drove', 'home', 'together', '.', 'taught', 'mother', ',', 'laughed', 'time', 'eyes', 'full', 'tears', ',', 'laugh', 'every', 'chance', '.', 'years', 'infant', ',', 'giggled', ',', 'chuckled', ',', 'laughed', 'way', 'adolescence', '.', 'moved', 'adolescence', ',', 'diagnosed', 'mild', 'autistic', 'variation', 'side', 'effects', '.', 'people', 'develop', 'cases', 'emotions', 'show', 'physically', '.', 'case', 'similar', 'physical', 'features', 'main', 'case', 'receive', 'information', 'given', 'one', 'time', '.', 'people', 'tell', 'joke', 'think', 'hilarious', ',', 'tend', 'miss', 'important', 'parts', 'joke', ',', 'funny', '.', 'joke', 'comes', 'end', ',', 'everybody', 'around', 'laughing', ',', 'standing', 'blank', 'look', 'face', '.', 'sometimes', 'tell', 'people', 'laugh', '.', 'though', 'say', ',', 'know', 'true', '.', 'laugh', ',', 'really', 'hard', 'find', 'right', 'time', '.', 'times', ',', 'laugh', 'situation', 'really', 'funny', 'everybody', 'else', 'blank', 'gaze', 'face', '.', 'usually', 'makes', 'feel', 'embarrassed', \"n't\", 'feel', 'normal', '.', 'lot', 'people', 'tell', 'look', 'expressionless', 'try', 'perk', ',', 'smile', '.', \"n't\", 'feel', 'need', 'smile', ',', 'even', 'happy', 'times', 'life', '.', 'laughed', 'enough', ',', 'learning', 'make', 'bad', 'situations', 'great', 'happy', 'ones', '.', 'learning', 'moment', 'laugh', 'important', '.', 'even', 'joke', 'told', ',', 'laugh', '.', 'people', 'would', 'probably', 'look', 'weird', 'way', ',', 'would', \"n't\", 'care', 'one', 'feels', 'happiness', 'inside', '.', 'laughing', 'relieves', 'stress', ',', 'makes', 'people', 'feel', 'good', ',', 'allows', 'people', 'mental', 'disabilities', 'feel', 'comfortable', 'community', 'live', '.', 'finally', 'learned', 'even', 'laugh', 'much', 'anyone', '.']),\n",
       "        4, ..., nan, nan, nan]], dtype=object)"
      ]
     },
     "execution_count": 30,
     "metadata": {},
     "output_type": "execute_result"
    }
   ],
   "source": [
    "# Preprocessing\n",
    "\n",
    "for i in range(data.shape[0]):    \n",
    "    my_stopwords = set(stopwords.words('english'))\n",
    "        \n",
    "    text = data[i, 1]\n",
    "#     Lowercasing\n",
    "    text = text.lower()\n",
    "#     Removing @person, @organization, etc.\n",
    "    text = \" \".join([word for word in text.split() if word[0] != '@'])\n",
    "#     Tokenizing into list of words\n",
    "    text = word_tokenize(text)\n",
    "#     Removing stop words\n",
    "    text = [word for word in text if word not in my_stopwords]\n",
    "    \n",
    "    \n",
    "    \n",
    "    data[i, 1] = text\n",
    "    \n",
    "    \n",
    "data"
   ]
  },
  {
   "cell_type": "code",
   "execution_count": null,
   "metadata": {},
   "outputs": [],
   "source": []
  }
 ],
 "metadata": {
  "kernelspec": {
   "display_name": "Python 3",
   "language": "python",
   "name": "python3"
  },
  "language_info": {
   "codemirror_mode": {
    "name": "ipython",
    "version": 3
   },
   "file_extension": ".py",
   "mimetype": "text/x-python",
   "name": "python",
   "nbconvert_exporter": "python",
   "pygments_lexer": "ipython3",
   "version": "3.7.4"
  }
 },
 "nbformat": 4,
 "nbformat_minor": 2
}
